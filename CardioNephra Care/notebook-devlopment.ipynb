{
 "cells": [
  {
   "cell_type": "code",
   "execution_count": null,
   "id": "c4841263",
   "metadata": {},
   "outputs": [],
   "source": [
    "from flask import Flask, request, render_template\n",
    "import sqlite3"
   ]
  },
  {
   "cell_type": "code",
   "execution_count": null,
   "id": "7f547b09",
   "metadata": {},
   "outputs": [],
   "source": [
    "db_path = 'database/user_db.db'"
   ]
  },
  {
   "cell_type": "code",
   "execution_count": null,
   "id": "4fb6a5f3",
   "metadata": {},
   "outputs": [],
   "source": [
    "conn = sqlite3.connect(db_path)"
   ]
  },
  {
   "cell_type": "code",
   "execution_count": null,
   "id": "e5ed7634",
   "metadata": {},
   "outputs": [],
   "source": [
    "query='create table if not exists user_info (name char(1000), age int, gender char(1), contact_no int, username char(1000) primary key not null, password char(1000) not null);'\n",
    "\n",
    "conn.execute(query)"
   ]
  },
  {
   "cell_type": "code",
   "execution_count": null,
   "id": "61fbbfa6",
   "metadata": {},
   "outputs": [],
   "source": [
    "query=\"insert into user_info (name, age, gender, contact_no, username, password ) values ('Kartik',19,'Male',1234567890,'Kartik','Kartik');\"\n",
    "\n",
    "conn.execute(query)"
   ]
  },
  {
   "cell_type": "code",
   "execution_count": null,
   "id": "247b58aa",
   "metadata": {},
   "outputs": [],
   "source": [
    "query=\"select * from user_info;\"\n",
    "\n",
    "res = conn.execute(query)\n",
    "for row in res:\n",
    "    print(row)"
   ]
  },
  {
   "cell_type": "code",
   "execution_count": null,
   "id": "6fb88cdd",
   "metadata": {},
   "outputs": [],
   "source": [
    "conn.close()"
   ]
  },
  {
   "cell_type": "code",
   "execution_count": null,
   "id": "029a254b",
   "metadata": {},
   "outputs": [],
   "source": [
    "table_name='user_info'\n",
    "username='Kartik'\n",
    "pwd='Kartik'\n",
    "query = f\"select * from {table_name} where username = '{username}' and password = '{pwd}'\"\n",
    "print(query)\n",
    "res = conn.execute(query)\n",
    "\n",
    "for row in res:\n",
    "    print(row)"
   ]
  },
  {
   "cell_type": "code",
   "execution_count": null,
   "id": "3c39e9fe",
   "metadata": {},
   "outputs": [],
   "source": [
    "conn.commit()"
   ]
  }
 ],
 "metadata": {
  "kernelspec": {
   "display_name": "Python 3",
   "language": "python",
   "name": "python3"
  },
  "language_info": {
   "codemirror_mode": {
    "name": "ipython",
    "version": 3
   },
   "file_extension": ".py",
   "mimetype": "text/x-python",
   "name": "python",
   "nbconvert_exporter": "python",
   "pygments_lexer": "ipython3",
   "version": "3.10.7"
  },
  "vscode": {
   "interpreter": {
    "hash": "26de051ba29f2982a8de78e945f0abaf191376122a1563185a90213a26c5da77"
   }
  }
 },
 "nbformat": 4,
 "nbformat_minor": 5
}
